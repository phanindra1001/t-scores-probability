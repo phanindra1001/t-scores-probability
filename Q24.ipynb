{
 "cells": [
  {
   "cell_type": "code",
   "execution_count": 51,
   "id": "c203abb6",
   "metadata": {},
   "outputs": [],
   "source": [
    "import scipy\n",
    "import pandas as pd\n",
    "from scipy import stats\n",
    "import math"
   ]
  },
  {
   "cell_type": "code",
   "execution_count": 68,
   "id": "924fbcc6",
   "metadata": {
    "scrolled": true
   },
   "outputs": [
    {
     "name": "stdout",
     "output_type": "stream",
     "text": [
      "Given:\n",
      " avg. light bulb M=270\n",
      " random sample n=18(here n <30 so we can go with \"t\")\n",
      " avg. sample bulbs x=260\n",
      " standard deviation s=90\n",
      " degrees of freedom df=17\n"
     ]
    }
   ],
   "source": [
    "print(f'Given:\\n avg. light bulb M={270}\\n random sample n={18}(here n <30 so we can go with \"t\")\\n avg. sample bulbs x={260}')\n",
    "print(f' standard deviation s={90}\\n degrees of freedom df={n-1}')\n",
    "M=270;n=18;x=260;s=90;df=n-1"
   ]
  },
  {
   "cell_type": "code",
   "execution_count": 59,
   "id": "3a571348",
   "metadata": {},
   "outputs": [
    {
     "name": "stdout",
     "output_type": "stream",
     "text": [
      "first we have to find t t= (x-M)/s*(math.sqrt(n))\n",
      "t = -0.4714045207910316\n"
     ]
    }
   ],
   "source": [
    "print('first we have to find t t= (x-M)/s*(math.sqrt(n))')\n",
    "print(f't = {(x-M)/s*(math.sqrt(n))}')"
   ]
  },
  {
   "cell_type": "code",
   "execution_count": 101,
   "id": "0040237a",
   "metadata": {},
   "outputs": [],
   "source": [
    "# here t valuye is -0.47 it is negative side of the area. total area is 1. so we have to do (1-(-0.47))\n",
    "p=1-stats.t.cdf(0.47,df)"
   ]
  },
  {
   "cell_type": "code",
   "execution_count": 103,
   "id": "325b8112",
   "metadata": {},
   "outputs": [
    {
     "name": "stdout",
     "output_type": "stream",
     "text": [
      "the probability that 18 randomly selected bulbs would have an average life of no more than 260 days is 0.32216394448907915\n"
     ]
    }
   ],
   "source": [
    "print(f'the probability that 18 randomly selected bulbs would have an average life of no more than 260 days is {p}')"
   ]
  }
 ],
 "metadata": {
  "kernelspec": {
   "display_name": "Python 3",
   "language": "python",
   "name": "python3"
  },
  "language_info": {
   "codemirror_mode": {
    "name": "ipython",
    "version": 3
   },
   "file_extension": ".py",
   "mimetype": "text/x-python",
   "name": "python",
   "nbconvert_exporter": "python",
   "pygments_lexer": "ipython3",
   "version": "3.8.8"
  }
 },
 "nbformat": 4,
 "nbformat_minor": 5
}
